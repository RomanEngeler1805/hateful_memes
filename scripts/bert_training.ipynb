{
 "cells": [
  {
   "cell_type": "code",
   "execution_count": 1,
   "metadata": {},
   "outputs": [
    {
     "name": "stderr",
     "output_type": "stream",
     "text": [
      "Using TensorFlow backend.\n"
     ]
    }
   ],
   "source": [
    "import sys\n",
    "import os\n",
    "import numpy as np\n",
    "import random as rn\n",
    "import pandas as pd\n",
    "import torch\n",
    "torch.cuda.current_device()\n",
    "from pytorch_pretrained_bert import BertModel\n",
    "from torch import nn\n",
    "\n",
    "# from torchnlp.datasets import imdb_dataset      # --> We are using our own uploaded dataset.\n",
    "\n",
    "from pytorch_pretrained_bert import BertTokenizer\n",
    "from keras.preprocessing.sequence import pad_sequences\n",
    "from torch.utils.data import TensorDataset, DataLoader, RandomSampler, SequentialSampler\n",
    "from torch.optim import Adam\n",
    "from torch.nn.utils import clip_grad_norm_\n",
    "from IPython.display import clear_output\n",
    "import matplotlib.pyplot as plt\n",
    "%matplotlib inline"
   ]
  },
  {
   "cell_type": "code",
   "execution_count": 2,
   "metadata": {},
   "outputs": [],
   "source": [
    "rn.seed(321)\n",
    "np.random.seed(321)\n",
    "torch.manual_seed(321)\n",
    "torch.cuda.manual_seed(321)"
   ]
  },
  {
   "cell_type": "markdown",
   "metadata": {},
   "source": [
    "### data loading"
   ]
  },
  {
   "cell_type": "code",
   "execution_count": 3,
   "metadata": {},
   "outputs": [
    {
     "name": "stdout",
     "output_type": "stream",
     "text": [
      "     id                                               text\n",
      "0     0  I wasn't really going to comment, but then I f...\n",
      "1     0  The final pairing of Nelson Eddy and Jeanette ...\n",
      "2     0  An intriguing premise of hand-drawn fantasy co...\n",
      "3     0  I bought this DVD for £1 and now i realise why...\n",
      "4     0  I did not expect much from this film, but boy-...\n",
      "..   ..                                                ...\n",
      "995   0  First off, the lead, Brad Dourif is a KOOK. If...\n",
      "996   0  The perfect murder is foiled when a wife(playe...\n",
      "997   0  The explosion of TV channels must be eternally...\n",
      "998   0  I just saw this movie on Flix after timer-tapi...\n",
      "999   0  They had such potential for this movie and the...\n",
      "\n",
      "[1000 rows x 2 columns]\n",
      "2000\n",
      "     id                                               text\n",
      "0     1  The next-to-last episode aired of the original...\n",
      "1     1  In 1942 a film TALES OF MANHATTAN told a set o...\n",
      "2     1  Financially strapped Paramount pulled out all ...\n",
      "3     1  This movie has made me want to become a direct...\n",
      "4     1  I have to say I totally loved the movie. It ha...\n",
      "..   ..                                                ...\n",
      "995   1  WARNING!!! TONS OF DEAD GIVEAWAYS!!! DON'T REA...\n",
      "996   1  This movie is tremendous for uplifting the Spi...\n",
      "997   1  I was the Production Accountant on this movie,...\n",
      "998   1  This is a really interesting film. It's the fi...\n",
      "999   1  Elephant Walk (1954) Starring an early Peter F...\n",
      "\n",
      "[1000 rows x 2 columns]\n",
      "2000\n",
      "      id                                               text\n",
      "0      1  let me say that i love Adam Sandler, watching ...\n",
      "1      0  Another horror flick in which a goof-ball teen...\n",
      "2      1  I have to admit I have always found it difficu...\n",
      "3      1  While \"The Kiss of the Spider Woman\" cast Raul...\n",
      "4      0  This must be accompanied by a special rating a...\n",
      "...   ..                                                ...\n",
      "1995   0  Worst movie, (with the best reviews given it) ...\n",
      "1996   1  i just got puzzled why damn FOX canceled the s...\n",
      "1997   1  I enjoyed this film. It was funny, cute, silly...\n",
      "1998   1  This is a very beautiful and almost meditative...\n",
      "1999   0  By all the fawning people have been doing over...\n",
      "\n",
      "[2000 rows x 2 columns]\n",
      "4000\n"
     ]
    }
   ],
   "source": [
    "path_pos = '../data/movie_reviews/train/pos/'\n",
    "path_neg = '../data/movie_reviews/train/neg/'\n",
    "\n",
    "\n",
    "# read negative reviews\n",
    "files = [f for f in os.listdir(path_neg)]\n",
    "df_neg = pd.concat([pd.read_csv(os.path.join(path_neg, fp), sep='\\n', header=None) for fp in files[:1000]])\n",
    "df_neg.index = np.arange(df_neg.size) # set the index to ascending (before all 0's)\n",
    "df_neg.columns = ['text'] # add proper header\n",
    "df_neg['id'] = 0 # labels=0 (negative)\n",
    "df_neg = df_neg[['id', 'text']] # rearange\n",
    "\n",
    "print(df_neg)\n",
    "print(df_neg.size)\n",
    "\n",
    "# read positive reviews\n",
    "files = [f for f in os.listdir(path_pos)]\n",
    "df_pos = pd.concat([pd.read_csv(os.path.join(path_pos, fp), sep='\\n', header=None) for fp in files[:1000]])\n",
    "df_pos.index = np.arange(df_pos.size)\n",
    "df_pos.columns = ['text']\n",
    "df_pos['id'] = 1 # labels=1 (positive)\n",
    "df_pos = df_pos[['id', 'text']]\n",
    "\n",
    "print(df_pos)\n",
    "print(df_pos.size)\n",
    "\n",
    "# concat pos& neg reviews and shuffle\n",
    "df = pd.concat([df_pos, df_neg])\n",
    "df = df.sample(frac=1).reset_index(drop=True)\n",
    "\n",
    "print(df)\n",
    "print(df.size)"
   ]
  },
  {
   "cell_type": "code",
   "execution_count": 4,
   "metadata": {},
   "outputs": [],
   "source": [
    "# dataframe -> dict\n",
    "train_data = df[:1000].to_dict(orient='records') # have been shuffled in previous step\n",
    "valid_data = df[1000:].to_dict(orient='records')\n",
    "# X_train, X_test, y_train, y_test = train_test_split(X, y, test_size=0.2) #"
   ]
  },
  {
   "cell_type": "code",
   "execution_count": 5,
   "metadata": {},
   "outputs": [
    {
     "data": {
      "text/plain": [
       "(1000, 1000, 1000, 1000)"
      ]
     },
     "execution_count": 5,
     "metadata": {},
     "output_type": "execute_result"
    }
   ],
   "source": [
    "# split into text (input) and labels (output)\n",
    "train_texts, train_labels = list(zip(*map(lambda d: (d['text'], d['id']), train_data)))\n",
    "valid_texts, valid_labels = list(zip(*map(lambda d: (d['text'], d['id']), valid_data)))\n",
    "\n",
    "len(train_texts), len(train_labels), len(valid_texts), len(valid_labels)"
   ]
  },
  {
   "cell_type": "code",
   "execution_count": 7,
   "metadata": {},
   "outputs": [
    {
     "data": {
      "image/png": "[encoded data removed]",
      "text/plain": [
       "<Figure size 700x500 with 1 Axes>"
      ]
     },
     "metadata": {
      "needs_background": "light"
     },
     "output_type": "display_data"
    }
   ],
   "source": [
    "# analysis of review length\n",
    "sentences = [len(sent) for sent in train_texts]\n",
    "\n",
    "plt.rcParams.update({'figure.figsize':(7,5), 'figure.dpi':100})\n",
    "plt.bar(range(1,1001), sentences, color = ['red'])\n",
    "plt.gca().set(title='No. of characters in each sentence', xlabel='Number of sentence', ylabel='Number of Characters in each sentence');\n",
    "\n"
   ]
  },
  {
   "cell_type": "code",
   "execution_count": 8,
   "metadata": {},
   "outputs": [],
   "source": [
    "# bert tokenizer\n",
    "tokenizer = BertTokenizer.from_pretrained('bert-base-uncased', do_lower_case=True)"
   ]
  },
  {
   "cell_type": "code",
   "execution_count": 9,
   "metadata": {},
   "outputs": [
    {
     "data": {
      "text/plain": [
       "['hi', 'my', 'name', 'is', 'at', '##ul']"
      ]
     },
     "execution_count": 9,
     "metadata": {},
     "output_type": "execute_result"
    }
   ],
   "source": [
    "# illustrate tokenizer\n",
    "tokenizer.tokenize('Hi my name is Atul')"
   ]
  },
  {
   "cell_type": "code",
   "execution_count": 10,
   "metadata": {},
   "outputs": [
    {
     "data": {
      "text/plain": [
       "(1000, 1000)"
      ]
     },
     "execution_count": 10,
     "metadata": {},
     "output_type": "execute_result"
    }
   ],
   "source": [
    "# token embeddings with required separation token\n",
    "train_tokens = list(map(lambda t: ['[CLS]'] + tokenizer.tokenize(t)[:510] + ['[SEP]'], train_texts))\n",
    "valid_tokens = list(map(lambda t: ['[CLS]'] + tokenizer.tokenize(t)[:510] + ['[SEP]'], valid_texts))\n",
    "\n",
    "len(train_tokens), len(valid_tokens)"
   ]
  },
  {
   "cell_type": "code",
   "execution_count": 11,
   "metadata": {},
   "outputs": [
    {
     "data": {
      "text/plain": [
       "((1000, 512), (1000, 512))"
      ]
     },
     "execution_count": 11,
     "metadata": {},
     "output_type": "execute_result"
    }
   ],
   "source": [
    "# prepare token ids: each token (word fragment) corresponds to an id in the bert corpus\n",
    "# further need to make all review the same length -> padding too short, truncating too long ones\n",
    "train_tokens_ids = pad_sequences(list(map(tokenizer.convert_tokens_to_ids, train_tokens)), maxlen=512, truncating=\"post\", padding=\"post\", dtype=\"int\")\n",
    "valid_tokens_ids = pad_sequences(list(map(tokenizer.convert_tokens_to_ids, valid_tokens)), maxlen=512, truncating=\"post\", padding=\"post\", dtype=\"int\")\n",
    "\n",
    "train_tokens_ids.shape, valid_tokens_ids.shape"
   ]
  },
  {
   "cell_type": "code",
   "execution_count": 12,
   "metadata": {},
   "outputs": [],
   "source": [
    "# mask for padding (don't know why this is needed)\n",
    "train_masks = [[float(i > 0) for i in ii] for ii in train_tokens_ids]\n",
    "valid_masks = [[float(i > 0) for i in ii] for ii in valid_tokens_ids]\n",
    "\n"
   ]
  },
  {
   "cell_type": "markdown",
   "metadata": {},
   "source": [
    "### Baseline"
   ]
  },
  {
   "cell_type": "code",
   "execution_count": 13,
   "metadata": {},
   "outputs": [],
   "source": [
    "# load sklearn library\n",
    "from sklearn.feature_extraction.text import CountVectorizer\n",
    "from sklearn.linear_model import LogisticRegression\n",
    "from sklearn.pipeline import make_pipeline\n",
    "from sklearn.metrics import classification_report"
   ]
  },
  {
   "cell_type": "code",
   "execution_count": 14,
   "metadata": {},
   "outputs": [],
   "source": [
    "# features=countvectorizer, logistic regression on top of it\n",
    "baseline_model = make_pipeline(CountVectorizer(ngram_range=(1,3)),\n",
    "                               LogisticRegression()).fit(train_texts, train_labels)"
   ]
  },
  {
   "cell_type": "code",
   "execution_count": 15,
   "metadata": {},
   "outputs": [],
   "source": [
    "baseline_predicted = baseline_model.predict(valid_texts)"
   ]
  },
  {
   "cell_type": "code",
   "execution_count": 16,
   "metadata": {},
   "outputs": [
    {
     "name": "stdout",
     "output_type": "stream",
     "text": [
      "              precision    recall  f1-score   support\n",
      "\n",
      "           0       0.83      0.77      0.80       507\n",
      "           1       0.78      0.84      0.81       493\n",
      "\n",
      "    accuracy                           0.81      1000\n",
      "   macro avg       0.81      0.81      0.80      1000\n",
      "weighted avg       0.81      0.81      0.80      1000\n",
      "\n"
     ]
    }
   ],
   "source": [
    "print(classification_report(valid_labels, baseline_predicted))"
   ]
  },
  {
   "cell_type": "markdown",
   "metadata": {},
   "source": [
    "### BERT Model"
   ]
  },
  {
   "cell_type": "code",
   "execution_count": 17,
   "metadata": {},
   "outputs": [],
   "source": [
    "# bert model class\n",
    "class BertBinaryClassifier(nn.Module):\n",
    "    def __init__(self, dropout=0.1):\n",
    "        super(BertBinaryClassifier, self).__init__()\n",
    "\n",
    "        self.bert = BertModel.from_pretrained('bert-base-uncased')\n",
    "\n",
    "        self.dropout = nn.Dropout(dropout)\n",
    "        self.linear = nn.Linear(768, 1)\n",
    "        self.sigmoid = nn.Sigmoid()\n",
    "    \n",
    "    def forward(self, tokens, masks=None):\n",
    "        _, pooled_output = self.bert(tokens, attention_mask=masks, output_all_encoded_layers=False)\n",
    "        dropout_output = self.dropout(pooled_output)\n",
    "        linear_output = self.linear(dropout_output)\n",
    "        proba = self.sigmoid(linear_output)\n",
    "        return proba\n",
    "\n"
   ]
  },
  {
   "cell_type": "code",
   "execution_count": 18,
   "metadata": {},
   "outputs": [
    {
     "name": "stdout",
     "output_type": "stream",
     "text": [
      "cuda\n"
     ]
    }
   ],
   "source": [
    "# allocate on gpu\n",
    "os.environ[\"CUDA_VISIBLE_DEVICES\"] = '0'\n",
    "device = torch.device(\"cuda\" if torch.cuda.is_available() else \"cpu\")\n",
    "print(device)"
   ]
  },
  {
   "cell_type": "code",
   "execution_count": 19,
   "metadata": {},
   "outputs": [
    {
     "name": "stdout",
     "output_type": "stream",
     "text": [
      "439.065088M\n"
     ]
    }
   ],
   "source": [
    "# put bert on gpu\n",
    "bert_clf = BertBinaryClassifier().to(device)\n",
    "print(str(torch.cuda.memory_allocated(device)/1000000 ) + 'M')"
   ]
  },
  {
   "cell_type": "code",
   "execution_count": 20,
   "metadata": {},
   "outputs": [
    {
     "name": "stdout",
     "output_type": "stream",
     "text": [
      "1499.110912M\n"
     ]
    }
   ],
   "source": [
    "# push one review through bert and observe memory consumption\n",
    "x = torch.tensor(train_tokens_ids[:1]).to(device)\n",
    "y, pooled = bert_clf.bert(x, output_all_encoded_layers=False) # embedding (768) before final classification layer\n",
    "x.shape, y.shape, pooled.shape\n",
    "print(str(torch.cuda.memory_allocated(device)/1000000 ) + 'M')"
   ]
  },
  {
   "cell_type": "code",
   "execution_count": 21,
   "metadata": {},
   "outputs": [
    {
     "data": {
      "text/plain": [
       "array([[0.4131659]], dtype=float32)"
      ]
     },
     "execution_count": 21,
     "metadata": {},
     "output_type": "execute_result"
    }
   ],
   "source": [
    "# classifier\n",
    "y = bert_clf(x)\n",
    "y.cpu().detach().numpy() "
   ]
  },
  {
   "cell_type": "code",
   "execution_count": 22,
   "metadata": {},
   "outputs": [
    {
     "data": {
      "text/plain": [
       "'439.065088M'"
      ]
     },
     "execution_count": 22,
     "metadata": {},
     "output_type": "execute_result"
    }
   ],
   "source": [
    "# clean up space\n",
    "y, x, pooled = None, None, None\n",
    "torch.cuda.empty_cache()     # Clearing Cache space for fresh Model run\n",
    "str(torch.cuda.memory_allocated(device)/1000000 ) + 'M'"
   ]
  },
  {
   "cell_type": "markdown",
   "metadata": {},
   "source": [
    "### Fine Tune Bert"
   ]
  },
  {
   "cell_type": "code",
   "execution_count": 28,
   "metadata": {},
   "outputs": [],
   "source": [
    "# Setting hyper-parameters\n",
    "BATCH_SIZE = 1\n",
    "EPOCHS = 5"
   ]
  },
  {
   "cell_type": "code",
   "execution_count": 29,
   "metadata": {},
   "outputs": [
    {
     "data": {
      "text/plain": [
       "'1783.531008M'"
      ]
     },
     "execution_count": 29,
     "metadata": {},
     "output_type": "execute_result"
    }
   ],
   "source": [
    "# transform (input, output) to torch tensor\n",
    "train_tokens_tensor = torch.tensor(train_tokens_ids)\n",
    "train_labels_tensor = torch.tensor(np.array(train_labels).reshape(-1, 1)).float()\n",
    "\n",
    "valid_tokens_tensor = torch.tensor(valid_tokens_ids)\n",
    "valid_labels_tensor = torch.tensor(np.array(valid_labels).reshape(-1, 1)).float()\n",
    "\n",
    "train_masks_tensor = torch.tensor(train_masks)\n",
    "valid_masks_tensor = torch.tensor(valid_masks)\n",
    "\n",
    "str(torch.cuda.memory_allocated(device)/1000000 ) + 'M'"
   ]
  },
  {
   "cell_type": "code",
   "execution_count": 30,
   "metadata": {},
   "outputs": [],
   "source": [
    "# data loader\n",
    "train_dataset = TensorDataset(train_tokens_tensor, train_masks_tensor, train_labels_tensor)\n",
    "train_sampler = RandomSampler(train_dataset)\n",
    "train_dataloader = DataLoader(train_dataset, sampler=train_sampler, batch_size=BATCH_SIZE)\n",
    "\n",
    "valid_dataset = TensorDataset(valid_tokens_tensor, valid_masks_tensor, valid_labels_tensor)\n",
    "valid_sampler = SequentialSampler(valid_dataset)\n",
    "valid_dataloader = DataLoader(valid_dataset, sampler=valid_sampler, batch_size=BATCH_SIZE)"
   ]
  },
  {
   "cell_type": "code",
   "execution_count": 31,
   "metadata": {},
   "outputs": [],
   "source": [
    "# optimizer\n",
    "param_optimizer = list(bert_clf.sigmoid.named_parameters()) \n",
    "optimizer_grouped_parameters = [{\"params\": [p for n, p in param_optimizer]}]\n",
    "\n",
    "optimizer = Adam(bert_clf.parameters(), lr=3e-6)"
   ]
  },
  {
   "cell_type": "code",
   "execution_count": 32,
   "metadata": {},
   "outputs": [
    {
     "name": "stdout",
     "output_type": "stream",
     "text": [
      "Epoch:  5\n",
      "\r",
      "999/1000.0 loss: 0.038515675066133556 \n"
     ]
    }
   ],
   "source": [
    "# training\n",
    "torch.cuda.empty_cache()   # Clearing Cache space for a fresh Model run\n",
    "\n",
    "for epoch_num in range(EPOCHS):\n",
    "    bert_clf.train()\n",
    "    train_loss = 0\n",
    "    \n",
    "    #\n",
    "    for step_num, batch_data in enumerate(train_dataloader):\n",
    "        token_ids, masks, labels = tuple(t.to(device) for t in batch_data)\n",
    "        print(str(torch.cuda.memory_allocated(device)/1000000 ) + 'M')\n",
    "        logits = bert_clf(token_ids, masks)\n",
    "        \n",
    "        # binary cross entropy loss (classification)\n",
    "        loss_func = nn.BCELoss()\n",
    "\n",
    "        batch_loss = loss_func(logits, labels)\n",
    "        train_loss += batch_loss.item()\n",
    "        \n",
    "        # reset gradient and calculate new ones\n",
    "        bert_clf.zero_grad()\n",
    "        batch_loss.backward()\n",
    "        \n",
    "        # gradient clipping and backward pass\n",
    "        clip_grad_norm_(parameters=bert_clf.parameters(), max_norm=1.0)\n",
    "        optimizer.step()\n",
    "        \n",
    "        # logging\n",
    "        clear_output(wait=True)\n",
    "        print('Epoch: ', epoch_num + 1)\n",
    "        print(\"\\r\" + \"{0}/{1} loss: {2} \".format(step_num, len(train_data) / BATCH_SIZE, train_loss / (step_num + 1)))\n",
    "  "
   ]
  },
  {
   "cell_type": "code",
   "execution_count": null,
   "metadata": {},
   "outputs": [],
   "source": [
    "# pre-processing for BERT\n",
    "# remove stopwords -> bert seems to pay attention on these\n",
    "# remove punctuation -> probably also keep this with bert\n",
    "# lowercasing -> not necessarily. could use bert-cased\n",
    "# tokenization (based on WordPiece)\n",
    "# padding/ truncation -> keras pad_sequence function"
   ]
  }
 ],
 "metadata": {
  "kernelspec": {
   "display_name": "Python 3",
   "language": "python",
   "name": "python3"
  },
  "language_info": {
   "codemirror_mode": {
    "name": "ipython",
    "version": 3
   },
   "file_extension": ".py",
   "mimetype": "text/x-python",
   "name": "python",
   "nbconvert_exporter": "python",
   "pygments_lexer": "ipython3",
   "version": "3.6.9"
  }
 },
 "nbformat": 4,
 "nbformat_minor": 4
}
