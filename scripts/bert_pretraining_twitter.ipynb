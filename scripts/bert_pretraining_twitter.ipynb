{
 "cells": [
  {
   "cell_type": "code",
   "execution_count": 1,
   "metadata": {},
   "outputs": [
    {
     "name": "stderr",
     "output_type": "stream",
     "text": [
      "Using TensorFlow backend.\n"
     ]
    }
   ],
   "source": [
    "# general\n",
    "from __future__ import print_function, division\n",
    "import os\n",
    "import pandas as pd\n",
    "from skimage import io, transform\n",
    "import numpy as np\n",
    "import matplotlib.pyplot as plt\n",
    "import cv2\n",
    "import random\n",
    "\n",
    "import GPUtil\n",
    "\n",
    "# torch\n",
    "import torch\n",
    "from torch.utils.data import Dataset, DataLoader\n",
    "from torchvision import transforms, utils\n",
    "from torch.utils.data import random_split\n",
    "\n",
    "from pytorch_pretrained_bert import BertTokenizer\n",
    "from keras.preprocessing.sequence import pad_sequences\n",
    "\n",
    "import torch.nn as nn\n",
    "import torchvision.models as models\n",
    "from pytorch_pretrained_bert import BertModel, BertForSequenceClassification\n",
    "from transformers import DistilBertModel\n",
    "import torch.nn.functional as F\n",
    "\n",
    "import nltk\n",
    "from nltk.corpus import wordnet\n",
    "from nltk.corpus import stopwords"
   ]
  },
  {
   "cell_type": "code",
   "execution_count": 2,
   "metadata": {},
   "outputs": [],
   "source": [
    "# Reproducibility\n",
    "random.seed(0)\n",
    "np.random.seed(0)\n",
    "torch.manual_seed(0)\n",
    "torch.cuda.manual_seed(0)\n",
    "torch.backends.cudnn.deterministic=True"
   ]
  },
  {
   "cell_type": "code",
   "execution_count": 3,
   "metadata": {},
   "outputs": [
    {
     "name": "stdout",
     "output_type": "stream",
     "text": [
      "1    19190\n",
      "2     4163\n",
      "0     1430\n",
      "Name: class, dtype: int64\n",
      "1    7\n",
      "0    3\n",
      "Name: class, dtype: int64\n",
      "     class                                              tweet\n",
      "0        1  !!! RT @mayasolovely: As a woman you shouldn't...\n",
      "40       1    \" momma said no pussy cats inside my doghouse \"\n",
      "63       1  \"@Addicted2Guys: -SimplyAddictedToGuys http://...\n",
      "66       1  \"@AllAboutManFeet: http://t.co/3gzUpfuMev\" woo...\n",
      "67       1  \"@Allyhaaaaa: Lemmie eat a Oreo &amp; do these...\n",
      "70       1  \"@ArizonasFinest6: Why the eggplant emoji doe?...\n",
      "75       1  \"@BabyAnimalPics: baby monkey bathtime http://...\n",
      "85       0  \"@Blackman38Tide: @WhaleLookyHere @HowdyDowdy1...\n",
      "90       0  \"@CB_Baby24: @white_thunduh alsarabsss\" hes a ...\n",
      "111      0  \"@DevilGrimz: @VigxRArts you're fucking gay, b...\n",
      "                       tweet  class\n",
      "0     xavier likes to go out      0\n",
      "1  i would like to by a book      1\n",
      "2            the pen is blue      0\n",
      "3     nver before I did this      0\n",
      "4        such an amazing day      1\n"
     ]
    }
   ],
   "source": [
    "df = pd.read_pickle('../data/labeled_data.p')\n",
    "\n",
    "# analyze imbalance\n",
    "print(df[\"class\"].value_counts())\n",
    "\n",
    "# drop class 1 for the first\n",
    "df = df.drop(df[df['class'] == 1].index)\n",
    "df = df.drop(['count', 'hate_speech', 'offensive_language', 'neither'], axis=1)\n",
    "\n",
    "# convert class 2 -> 1 to be in accordance with standards\n",
    "def convert_standard(x):\n",
    "    return 0 if x == 0 else 1\n",
    "df['class'] = df['class'].apply(convert_standard)\n",
    "\n",
    "df = df[:10]\n",
    "print(df[\"class\"].value_counts())\n",
    "\n",
    "print(df.head(10))\n",
    "\n",
    "# initialize list of lists \n",
    "data = [['xavier likes to go out', 0], ['i would like to by a book', 1], ['the pen is blue', 0],\n",
    "        ['nver before I did this', 0], ['such an amazing day', 1], ['the light is red', 1]] \n",
    "  \n",
    "# Create the pandas DataFrame \n",
    "df = pd.DataFrame(data, columns = ['tweet', 'class']) \n",
    "\n",
    "print(df.head())"
   ]
  },
  {
   "cell_type": "code",
   "execution_count": 4,
   "metadata": {},
   "outputs": [
    {
     "name": "stdout",
     "output_type": "stream",
     "text": [
      "Mean sentence length: 4.83\n",
      "Max sentence length: 7.0\n",
      "MIn sentence length: 4.0\n"
     ]
    }
   ],
   "source": [
    "# sentence length (in #words)\n",
    "# https://textblob.readthedocs.io/en/dev/\n",
    "sentence_length = np.zeros(len(df))\n",
    "\n",
    "for i in range(len(df)):\n",
    "    text_string = df['tweet'].values[i]\n",
    "    sentence_length[i] = len(text_string.split()) \n",
    "    \n",
    "print('Mean sentence length: '+ str(np.round(np.mean(sentence_length), 2)))\n",
    "print('Max sentence length: '+ str(np.round(np.max(sentence_length), 2)))\n",
    "print('MIn sentence length: '+ str(np.round(np.min(sentence_length), 2)))"
   ]
  },
  {
   "cell_type": "code",
   "execution_count": 5,
   "metadata": {},
   "outputs": [
    {
     "name": "stdout",
     "output_type": "stream",
     "text": [
      "                       tweet  class\n",
      "0     xavier likes to go out      0\n",
      "1  i would like to by a book      1\n",
      "2            the pen is blue      0\n",
      "3     nver before i did this      0\n",
      "4        such an amazing day      1\n"
     ]
    }
   ],
   "source": [
    "import re\n",
    "def preprocess(text):\n",
    "\n",
    "    text=text.lower()\n",
    "    # remove hyperlinks\n",
    "    text = re.sub(r'https?:\\/\\/.*[\\r\\n]*', '', text)\n",
    "    text = re.sub(r'http?:\\/\\/.*[\\r\\n]*', '', text)\n",
    "    #Replace &amp, &lt, &gt with &,<,> respectively\n",
    "    text=text.replace(r'&amp;?',r'and')\n",
    "    text=text.replace(r'&lt;',r'<')\n",
    "    text=text.replace(r'&gt;',r'>')\n",
    "    #remove hashtag sign\n",
    "    #text=re.sub(r\"#\",\"\",text)   \n",
    "    #remove mentions\n",
    "    text = re.sub(r\"(?:\\@)\\w+\", '', text)\n",
    "    #text=re.sub(r\"@\",\"\",text)\n",
    "    #remove non ascii chars\n",
    "    text=text.encode(\"ascii\",errors=\"ignore\").decode()\n",
    "    #remove some puncts (except . ! ?)\n",
    "    text=re.sub(r'[:\"#$%&\\*+,-/:;<=>@\\\\^_`{|}~]+','',text)\n",
    "    text=re.sub(r'[!]+','!',text)\n",
    "    text=re.sub(r'[?]+','?',text)\n",
    "    text=re.sub(r'[.]+','.',text)\n",
    "    text=re.sub(r\"'\",\"\",text)\n",
    "    text=re.sub(r\"\\(\",\"\",text)\n",
    "    text=re.sub(r\"\\)\",\"\",text)\n",
    "    \n",
    "    text=\" \".join(text.split())\n",
    "    return text\n",
    "\n",
    "df['tweet'] = df['tweet'].apply(preprocess)\n",
    "df = df[df[\"tweet\"]!='']\n",
    "\n",
    "print(df.head())\n"
   ]
  },
  {
   "cell_type": "code",
   "execution_count": 6,
   "metadata": {},
   "outputs": [],
   "source": [
    "# dictionary\n",
    "data = df.to_dict(orient='records') # have been shuffled in previous step\n",
    "\n",
    "# train valid split\n",
    "from sklearn.model_selection import train_test_split\n",
    "train_data, valid_data = train_test_split(data, test_size=0.2)\n",
    "\n",
    "# split into text (input) and labels (output)\n",
    "train_tweets, train_labels = list(zip(*map(lambda d: (d['tweet'], d['class']), train_data)))\n",
    "valid_tweets, valid_labels = list(zip(*map(lambda d: (d['tweet'], d['class']), valid_data)))"
   ]
  },
  {
   "cell_type": "code",
   "execution_count": 7,
   "metadata": {},
   "outputs": [
    {
     "name": "stdout",
     "output_type": "stream",
     "text": [
      "('i would like to by a book', 'nver before i did this', 'xavier likes to go out', 'such an amazing day')\n",
      "[['[CLS]', 'i', 'would', 'like', 'to', 'by', 'a', 'book', '[SEP]'], ['[CLS]', 'n', '##ver', 'before', 'i', 'did', 'this', '[SEP]'], ['[CLS]', 'x', '##avi', '##er', 'likes', 'to', 'go', 'out', '[SEP]'], ['[CLS]', 'such', 'an', 'amazing', 'day', '[SEP]']]\n",
      "[[ 101  178 1156 1176 1106 1118  170 1520  102    0    0    0    0    0\n",
      "     0    0]\n",
      " [ 101  183 4121 1196  178 1225 1142  102    0    0    0    0    0    0\n",
      "     0    0]]\n"
     ]
    }
   ],
   "source": [
    "print(train_tweets[:10])\n",
    "\n",
    "# bert tokenizer\n",
    "tokenizer = BertTokenizer.from_pretrained('bert-base-cased', do_lower_case=False)\n",
    "train_tokens = list(map(lambda t: ['[CLS]'] + tokenizer.tokenize(t)[:14] + ['[SEP]'], train_tweets))\n",
    "valid_tokens = list(map(lambda t: ['[CLS]'] + tokenizer.tokenize(t)[:14] + ['[SEP]'], valid_tweets))\n",
    "\n",
    "print(train_tokens[:10])\n",
    "\n",
    "# token to id & padding\n",
    "train_token_ids = pad_sequences(list(map(tokenizer.convert_tokens_to_ids, train_tokens)), maxlen=16, truncating=\"post\", padding=\"post\", dtype=\"int\")\n",
    "valid_token_ids = pad_sequences(list(map(tokenizer.convert_tokens_to_ids, valid_tokens)), maxlen=16, truncating=\"post\", padding=\"post\", dtype=\"int\")\n",
    "\n",
    "print(train_token_ids[:2])"
   ]
  },
  {
   "cell_type": "code",
   "execution_count": 8,
   "metadata": {},
   "outputs": [
    {
     "name": "stdout",
     "output_type": "stream",
     "text": [
      "[[1.0, 1.0, 1.0, 1.0, 1.0, 1.0, 1.0, 1.0, 1.0, 0.0, 0.0, 0.0, 0.0, 0.0, 0.0, 0.0], [1.0, 1.0, 1.0, 1.0, 1.0, 1.0, 1.0, 1.0, 0.0, 0.0, 0.0, 0.0, 0.0, 0.0, 0.0, 0.0]]\n"
     ]
    }
   ],
   "source": [
    "# put everything back into a dictionary\n",
    "train_data = {'tokens': train_tokens, 'labels': train_labels}\n",
    "valid_data = {'tokens': valid_tokens, 'labels': valid_labels}\n",
    "\n",
    "# mask -> required by bert\n",
    "train_masks = [[float(i > 0) for i in ii] for ii in train_token_ids]\n",
    "valid_masks = [[float(i > 0) for i in ii] for ii in valid_token_ids]\n",
    "\n",
    "print(train_masks[:2])"
   ]
  },
  {
   "cell_type": "code",
   "execution_count": 9,
   "metadata": {},
   "outputs": [],
   "source": [
    "from torch.utils.data import TensorDataset, DataLoader, RandomSampler, SequentialSampler\n",
    "\n",
    "batch_size = 4\n",
    "\n",
    "# Create the DataLoader for our training set.\n",
    "train_data = TensorDataset(torch.tensor(train_token_ids),\n",
    "                           torch.tensor(train_masks),\n",
    "                           torch.tensor(train_labels))\n",
    "train_sampler = RandomSampler(train_data)\n",
    "train_loader = DataLoader(train_data, sampler=train_sampler, batch_size=batch_size)\n",
    "\n",
    "# Create the DataLoader for our validation set.\n",
    "validation_data = TensorDataset(torch.tensor(valid_token_ids),\n",
    "                                torch.tensor(valid_masks),\n",
    "                                torch.tensor(valid_labels))\n",
    "validation_sampler = SequentialSampler(validation_data)\n",
    "valid_loader = DataLoader(validation_data, sampler=validation_sampler, batch_size=batch_size)\n"
   ]
  },
  {
   "cell_type": "code",
   "execution_count": 10,
   "metadata": {},
   "outputs": [],
   "source": [
    "# bert model class\n",
    "class BertBinaryClassifier(nn.Module):\n",
    "    def __init__(self, dropout=0.1):\n",
    "        super(BertBinaryClassifier, self).__init__()\n",
    "        self.bert = BertModel.from_pretrained('bert-base-cased')\n",
    "        \n",
    "        # freeze weights\n",
    "        #for param in self.bert.parameters():\n",
    "        #    param.requires_grad = False\n",
    "        \n",
    "        self.dropout = nn.Dropout(dropout)\n",
    "        self.linear = nn.Linear(768, 1)\n",
    "        self.sigmoid = nn.Sigmoid()\n",
    "    \n",
    "    def forward(self, tokens, masks=None):\n",
    "        _, pooled_output = self.bert(tokens, attention_mask=masks, output_all_encoded_layers=False)\n",
    "        #dropout_output = self.dropout(pooled_output)\n",
    "        linear_output = self.linear(pooled_output)\n",
    "        proba = self.sigmoid(linear_output)\n",
    "        return proba\n"
   ]
  },
  {
   "cell_type": "code",
   "execution_count": 11,
   "metadata": {},
   "outputs": [],
   "source": [
    "# bert model class\n",
    "class BertBinaryClassifier(nn.Module):\n",
    "    def __init__(self):\n",
    "        super(BertBinaryClassifier,self).__init__()\n",
    "        self.fc1 = nn.Linear(16, 4024)\n",
    "        torch.nn.init.xavier_uniform(self.fc1.weight)\n",
    "        \n",
    "        self.fc2 = nn.Linear(4024, 1)\n",
    "        torch.nn.init.xavier_uniform(self.fc2.weight)\n",
    "        \n",
    "        self.relu1 = nn.ReLU()\n",
    "        self.sigmoid = nn.Sigmoid()\n",
    "    \n",
    "    def forward(self, tokens, masks=None):    \n",
    "        tokens = tokens.float()\n",
    "        out1 = self.relu1(self.fc1(tokens))\n",
    "        out2 = self.sigmoid(self.fc2(out1))\n",
    "        \n",
    "        return out2\n"
   ]
  },
  {
   "cell_type": "code",
   "execution_count": 29,
   "metadata": {},
   "outputs": [
    {
     "name": "stderr",
     "output_type": "stream",
     "text": [
      "/home/roman/torch/lib/python3.6/site-packages/ipykernel_launcher.py:6: UserWarning: nn.init.xavier_uniform is now deprecated in favor of nn.init.xavier_uniform_.\n",
      "  \n",
      "/home/roman/torch/lib/python3.6/site-packages/ipykernel_launcher.py:9: UserWarning: nn.init.xavier_uniform is now deprecated in favor of nn.init.xavier_uniform_.\n",
      "  if __name__ == '__main__':\n"
     ]
    }
   ],
   "source": [
    "vector = torch.rand(4, 16)\n",
    "lables = torch.tensor([0, 1, 1, 0])\n",
    "\n",
    "model2 = BertBinaryClassifier()\n",
    "\n",
    "from torch.nn.utils import clip_grad_norm_\n",
    "from sklearn.metrics import roc_auc_score\n",
    "\n",
    "# training\n",
    "torch.cuda.empty_cache()   # Clearing Cache space for a fresh Model run\n",
    "\n",
    "EPOCHS=100\n",
    "\n",
    "# binary cross entropy loss (classification)\n",
    "loss_func = nn.BCELoss()\n",
    "\n",
    "# monitor train progress\n",
    "stats = {'train_loss': [], 'train_acc': [], 'valid_loss': [], 'valid_acc': [], 'val_rocauc': []}\n",
    "\n",
    "time_tot = []\n",
    "\n",
    "\n",
    "for epoch_num in range(EPOCHS):\n",
    "    #\n",
    "    train_loss = 0.\n",
    "    train_correct = 0.\n",
    "    \n",
    "    # optimizer lr decay\n",
    "    #optimizer = Adam(model.parameters(), lr=1e-5)\n",
    "    \n",
    "    # training\n",
    "    model.train()\n",
    "        \n",
    "    for idx in range(4):\n",
    "        \n",
    "        # sample = {token_id': token_id, 'mask': mask, 'label': label}        \n",
    "        \n",
    "        outputs = lables[idx].to(device)\n",
    "        inputs = vector[idx].to(device)\n",
    "        logits = model(inputs)\n",
    "   \n",
    "        # loss\n",
    "        batch_loss = weighted_binary_cross_entropy(logits, outputs.float())\n",
    "        train_loss += batch_loss.item()\n",
    "        \n",
    "        #print(batch_loss)\n",
    "        \n",
    "        train_correct += sum(torch.round(logits)==outputs).item()\n",
    "        \n",
    "        # reset gradient and calculate new ones\n",
    "        model.zero_grad()\n",
    "        batch_loss.backward()\n",
    "        \n",
    "        optimizer.step()\n",
    "        \n",
    "    # train stats\n",
    "    stats['train_loss'].append(train_loss / ((step_num+1)* batch_size))\n",
    "    stats['train_acc'].append(train_correct / ((step_num+1)* batch_size))\n",
    "    \n",
    "    writer.add_scalar('Loss/train', train_loss / ((step_num+1)* batch_size), epoch_num)\n",
    "    writer.add_scalar('Accuracy/train', train_correct / ((step_num+1)* batch_size), epoch_num)\n",
    "    \n",
    "writer.close()\n",
    "\n"
   ]
  },
  {
   "cell_type": "code",
   "execution_count": 30,
   "metadata": {},
   "outputs": [
    {
     "data": {
      "image/png": "[encoded data removed]",
      "text/plain": [
       "<Figure size 864x288 with 3 Axes>"
      ]
     },
     "metadata": {
      "needs_background": "light"
     },
     "output_type": "display_data"
    }
   ],
   "source": [
    "fig, ax = plt.subplots(figsize=(12, 4), ncols=3)\n",
    "ax[0].plot(stats['train_loss'])\n",
    "ax[0].plot(stats['valid_loss'])\n",
    "ax[0].legend(['train', 'valid'])\n",
    "ax[0].set_ylabel('Loss')\n",
    "ax[0].set_yscale('log')\n",
    "\n",
    "ax[1].plot(stats['train_acc'])\n",
    "ax[1].plot(stats['valid_acc'])\n",
    "ax[1].legend(['train', 'valid'])\n",
    "ax[1].set_ylabel('Accuracy')\n",
    "\n",
    "ax[2].plot(stats['val_rocauc'])\n",
    "ax[2].legend(['valid'])\n",
    "ax[2].set_ylabel('ROC AUC')\n",
    "\n",
    "plt.savefig('../classifier_11_10.png')\n",
    "plt.show()"
   ]
  },
  {
   "cell_type": "code",
   "execution_count": 14,
   "metadata": {},
   "outputs": [
    {
     "name": "stderr",
     "output_type": "stream",
     "text": [
      "/home/roman/torch/lib/python3.6/site-packages/ipykernel_launcher.py:6: UserWarning: nn.init.xavier_uniform is now deprecated in favor of nn.init.xavier_uniform_.\n",
      "  \n",
      "/home/roman/torch/lib/python3.6/site-packages/ipykernel_launcher.py:9: UserWarning: nn.init.xavier_uniform is now deprecated in favor of nn.init.xavier_uniform_.\n",
      "  if __name__ == '__main__':\n"
     ]
    },
    {
     "name": "stdout",
     "output_type": "stream",
     "text": [
      "0.290816M\n",
      "| ID | GPU | MEM |\n",
      "------------------\n",
      "|  0 |  3% | 11% |\n",
      "72433\n",
      "72433\n"
     ]
    }
   ],
   "source": [
    "# allocate on gpu\n",
    "os.environ[\"CUDA_VISIBLE_DEVICES\"] = '0'\n",
    "device = torch.device(\"cuda\" if torch.cuda.is_available() else \"cpu\")\n",
    "torch.cuda.empty_cache()\n",
    "\n",
    "model = BertBinaryClassifier().to(device)\n",
    "print(str(torch.cuda.memory_allocated(device)/1000000 ) + 'M')\n",
    "\n",
    "GPUtil.showUtilization()\n",
    "\n",
    "print(sum(p.numel() for p in model.parameters()))\n",
    "print(sum(p.numel() for p in model.parameters() if p.requires_grad))"
   ]
  },
  {
   "cell_type": "code",
   "execution_count": 15,
   "metadata": {},
   "outputs": [],
   "source": [
    "def weighted_binary_cross_entropy(output, target, weights=None):\n",
    "        \n",
    "    if weights is not None:        \n",
    "        # TODO: should work since target = {0, 1}, thus sets weights to zero if not needed\n",
    "        loss = weights * (target * torch.log(output)) + \\\n",
    "               weights * ((1 - target) * torch.log(1 - output))\n",
    "    else:\n",
    "        loss = target * torch.log(output + 1e-6) + (1 - target) * torch.log(1 - output+ 1e-6)\n",
    "\n",
    "    return torch.neg(torch.mean(loss))"
   ]
  },
  {
   "cell_type": "code",
   "execution_count": 16,
   "metadata": {},
   "outputs": [],
   "source": [
    "from datetime import date\n",
    "# summary writer\n",
    "log_dir = './summaries_pretraining/summary'+ date.today().strftime('%H-%d-%m-%Y')\n",
    "from torch.utils.tensorboard import SummaryWriter\n",
    "writer = SummaryWriter(log_dir)"
   ]
  },
  {
   "cell_type": "code",
   "execution_count": 17,
   "metadata": {},
   "outputs": [],
   "source": [
    "class HatefulMemesDataset(Dataset):\n",
    "    \"\"\" Hateful Memes dataset \"\"\"\n",
    "    \n",
    "    def __init__(self, data):\n",
    "        \"\"\"\n",
    "        Args:\n",
    "            df_path (string): path to jsonl file with image id's\n",
    "            root_dir (string): directory with all the images\n",
    "            transform (callable): optional transform to be applied on a sample\n",
    "        \"\"\"\n",
    "        # text\n",
    "        self.data = data\n",
    "        \n",
    "    def __len__(self):\n",
    "        return len(self.data['labels'])\n",
    "    \n",
    "    def __getitem__(self, idx):\n",
    "        if torch.is_tensor(idx):\n",
    "            idx = idx_tolist()\n",
    "            \n",
    "            \n",
    "        data_train = {'tokens': train_tokens, 'masks': train_masks, 'labels': train_labels}\n",
    "        \n",
    "        # label ------------------------------------------\n",
    "        label = self.data['labels'][idx]\n",
    "        label = np.array([label])\n",
    "        label = label.astype('int').reshape(-1)\n",
    "        \n",
    "        # token -------------------------------------------\n",
    "        token = self.data['tokens'][idx]\n",
    "        \n",
    "        # prepare token ids: each token (word fragment) corresponds to an id in the bert corpus\n",
    "        # further need to make all review the same length -> padding too short, truncating too long ones\n",
    "        token_id = pad_sequences([tokenizer.convert_tokens_to_ids(token)], maxlen=16, truncating=\"post\", padding=\"post\", dtype=\"int\")\n",
    "        token_id = token_id.reshape(-1)\n",
    "        \n",
    "        # mask for padding -> required by bert\n",
    "        mask = self.data['masks'][idx]\n",
    "        mask = np.array([mask])\n",
    "        mask = mask.astype('float').reshape(-1)\n",
    "        \n",
    "        #\n",
    "        sample = {'token_id': token_id, 'mask': mask, 'label': label}\n",
    "            \n",
    "        return sample"
   ]
  },
  {
   "cell_type": "code",
   "execution_count": 18,
   "metadata": {},
   "outputs": [],
   "source": [
    "from torch.optim import Adam\n",
    "# TODO: not sure if this does what I think it should do\n",
    "# optimizer\n",
    "param_optimizer = list(model.named_parameters())\n",
    "optimizer_grouped_parameters = [{\"params\": [p for n, p in param_optimizer]}]\n",
    "\n",
    "lr = [1e-4, 1e-5, 1e-6, 1e-7]\n",
    "optimizer = Adam(model.parameters(), lr=10) # TODO: SGD for just the final classifier"
   ]
  },
  {
   "cell_type": "code",
   "execution_count": 19,
   "metadata": {},
   "outputs": [],
   "source": [
    "from torch.nn.utils import clip_grad_norm_\n",
    "from sklearn.metrics import roc_auc_score\n",
    "\n",
    "# training\n",
    "torch.cuda.empty_cache()   # Clearing Cache space for a fresh Model run\n",
    "\n",
    "EPOCHS=100\n",
    "\n",
    "# binary cross entropy loss (classification)\n",
    "loss_func = nn.BCELoss()\n",
    "\n",
    "# monitor train progress\n",
    "stats = {'train_loss': [], 'train_acc': [], 'valid_loss': [], 'valid_acc': [], 'val_rocauc': []}\n",
    "\n",
    "time_tot = []\n",
    "\n",
    "# training\n",
    "data_train = {'tokens': train_tokens, 'masks': train_masks, 'labels': train_labels}\n",
    "\n",
    "\n",
    "train_dataset = HatefulMemesDataset(data_train)\n",
    "train_loader = torch.utils.data.DataLoader(train_dataset, batch_size=batch_size, num_workers=1, shuffle=True)\n",
    "\n",
    "\n",
    "for epoch_num in range(EPOCHS):\n",
    "    #\n",
    "    train_loss = 0.\n",
    "    train_correct = 0.\n",
    "    \n",
    "    # optimizer lr decay\n",
    "    #optimizer = Adam(model.parameters(), lr=1e-5)\n",
    "    \n",
    "    # training\n",
    "    model.train()\n",
    "        \n",
    "    for step_num, batch in enumerate(train_loader):\n",
    "        \n",
    "        # sample = {token_id': token_id, 'mask': mask, 'label': label}        \n",
    "        \n",
    "        labels = batch['label'].to(device)\n",
    "        masks = batch['mask'].to(device)\n",
    "        token_ids = batch['token_id'].to(device)\n",
    "        # imgs, token_ids, masks, labels = tuple(t.to(device) for t in batch)\n",
    "        # print(str(torch.cuda.memory_allocated(device)/1000000 ) + 'M')\n",
    "        logits = model(token_ids, masks)\n",
    "        \n",
    "        # account for class imbalance (66% label 0, 33% label 1)\n",
    "        eye = torch.ones(labels.shape, device=device)\n",
    "        weight_imbalance = (eye+ (labels==eye).int())* 0.63\n",
    "   \n",
    "        # loss\n",
    "        batch_loss = weighted_binary_cross_entropy(logits, labels.float())\n",
    "        train_loss += batch_loss.item()\n",
    "        \n",
    "        #print(batch_loss)\n",
    "        \n",
    "        train_correct += sum(torch.round(logits)==labels).item()\n",
    "        \n",
    "        # reset gradient and calculate new ones\n",
    "        model.zero_grad()\n",
    "        batch_loss.backward()\n",
    "        \n",
    "        optimizer.step()\n",
    "        \n",
    "        # gradient clipping and backward pass\n",
    "        #clip_grad_norm_(parameters=model.parameters(), max_norm=10)\n",
    "\n",
    "        # logging\n",
    "        # clear_output(wait=True) -> from IPython.display import clear_output\n",
    "        if step_num%100==0 and step_num> 0:\n",
    "            print('Epoch: ', epoch_num + 1)\n",
    "            print(\"\\r\" + \"{0}/{1} loss: {2} acc: {3} \".format(step_num,\n",
    "                                                              len(train_data) / batch_size,\n",
    "                                                              round(train_loss / (step_num + 1), 3),\n",
    "                                                              round(train_correct/ ((step_num+1)* batch_size), 3)))\n",
    "    \n",
    "    \n",
    "    # train stats\n",
    "    stats['train_loss'].append(train_loss / ((step_num+1)* batch_size))\n",
    "    stats['train_acc'].append(train_correct / ((step_num+1)* batch_size))\n",
    "    \n",
    "    writer.add_scalar('Loss/train', train_loss / ((step_num+1)* batch_size), epoch_num)\n",
    "    writer.add_scalar('Accuracy/train', train_correct / ((step_num+1)* batch_size), epoch_num)\n",
    "    \n",
    "writer.close()"
   ]
  },
  {
   "cell_type": "code",
   "execution_count": 20,
   "metadata": {},
   "outputs": [
    {
     "data": {
      "image/png": "[encoded data removed]",
      "text/plain": [
       "<Figure size 864x288 with 3 Axes>"
      ]
     },
     "metadata": {
      "needs_background": "light"
     },
     "output_type": "display_data"
    }
   ],
   "source": [
    "fig, ax = plt.subplots(figsize=(12, 4), ncols=3)\n",
    "ax[0].plot(stats['train_loss'])\n",
    "ax[0].plot(stats['valid_loss'])\n",
    "ax[0].legend(['train', 'valid'])\n",
    "ax[0].set_ylabel('Loss')\n",
    "ax[0].set_yscale('log')\n",
    "\n",
    "ax[1].plot(stats['train_acc'])\n",
    "ax[1].plot(stats['valid_acc'])\n",
    "ax[1].legend(['train', 'valid'])\n",
    "ax[1].set_ylabel('Accuracy')\n",
    "\n",
    "ax[2].plot(stats['val_rocauc'])\n",
    "ax[2].legend(['valid'])\n",
    "ax[2].set_ylabel('ROC AUC')\n",
    "\n",
    "plt.savefig('../classifier_11_10.png')\n",
    "plt.show()"
   ]
  },
  {
   "cell_type": "code",
   "execution_count": null,
   "metadata": {},
   "outputs": [],
   "source": []
  },
  {
   "cell_type": "code",
   "execution_count": null,
   "metadata": {},
   "outputs": [],
   "source": []
  }
 ],
 "metadata": {
  "kernelspec": {
   "display_name": "Python 3",
   "language": "python",
   "name": "python3"
  },
  "language_info": {
   "codemirror_mode": {
    "name": "ipython",
    "version": 3
   },
   "file_extension": ".py",
   "mimetype": "text/x-python",
   "name": "python",
   "nbconvert_exporter": "python",
   "pygments_lexer": "ipython3",
   "version": "3.6.9"
  }
 },
 "nbformat": 4,
 "nbformat_minor": 4
}
