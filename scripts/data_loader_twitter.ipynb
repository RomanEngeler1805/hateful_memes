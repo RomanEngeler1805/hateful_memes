{
 "cells": [
  {
   "cell_type": "code",
   "execution_count": 1,
   "metadata": {},
   "outputs": [
    {
     "name": "stderr",
     "output_type": "stream",
     "text": [
      "Using TensorFlow backend.\n"
     ]
    }
   ],
   "source": [
    "# general\n",
    "from __future__ import print_function, division\n",
    "import os\n",
    "import pandas as pd\n",
    "from skimage import io, transform\n",
    "import numpy as np\n",
    "import matplotlib.pyplot as plt\n",
    "import cv2\n",
    "import random\n",
    "\n",
    "import GPUtil\n",
    "\n",
    "# torch\n",
    "import torch\n",
    "from torch.utils.data import Dataset, DataLoader\n",
    "from torchvision import transforms, utils\n",
    "from torch.utils.data import random_split\n",
    "\n",
    "from pytorch_pretrained_bert import BertTokenizer\n",
    "from keras.preprocessing.sequence import pad_sequences\n",
    "\n",
    "import torch.nn as nn\n",
    "import torchvision.models as models\n",
    "from pytorch_pretrained_bert import BertModel\n",
    "from transformers import DistilBertModel\n",
    "import torch.nn.functional as F\n",
    "\n",
    "import nltk\n",
    "from nltk.corpus import wordnet\n",
    "from nltk.corpus import stopwords"
   ]
  },
  {
   "cell_type": "code",
   "execution_count": 2,
   "metadata": {},
   "outputs": [],
   "source": [
    "# Reproducibility\n",
    "random.seed(0)\n",
    "np.random.seed(0)\n",
    "torch.manual_seed(0)\n",
    "torch.cuda.manual_seed(0)\n",
    "torch.backends.cudnn.deterministic=True"
   ]
  },
  {
   "cell_type": "markdown",
   "metadata": {},
   "source": [
    "### Structure\n",
    "- plot images\n",
    "- text preprocessing\n",
    "- data loader\n",
    "- image augmentation"
   ]
  },
  {
   "cell_type": "markdown",
   "metadata": {},
   "source": [
    "### Text Preprocessing"
   ]
  },
  {
   "cell_type": "markdown",
   "metadata": {},
   "source": [
    "Bert requires: <br>\n",
    "- tokenization\n",
    "- special characters\n",
    "- padding\n",
    "- mask\n",
    "\n",
    "techniques to try (for other models): <br>\n",
    "- Lower casing\n",
    "- Punctuation removal\n",
    "- Stopwords removal\n",
    "- Frequent words removal\n",
    "- Rare words removal\n",
    "- Spelling correction\n",
    "- Tokenization\n",
    "- Stemming\n",
    "- Lemmatization\n",
    "- word embedding/ bag of words"
   ]
  },
  {
   "cell_type": "code",
   "execution_count": 3,
   "metadata": {},
   "outputs": [
    {
     "name": "stdout",
     "output_type": "stream",
     "text": [
      "1    19190\n",
      "2     4163\n",
      "0     1430\n",
      "Name: class, dtype: int64\n",
      "     class                                              tweet\n",
      "0        1  !!! RT @mayasolovely: As a woman you shouldn't...\n",
      "40       1    \" momma said no pussy cats inside my doghouse \"\n",
      "63       1  \"@Addicted2Guys: -SimplyAddictedToGuys http://...\n",
      "66       1  \"@AllAboutManFeet: http://t.co/3gzUpfuMev\" woo...\n",
      "67       1  \"@Allyhaaaaa: Lemmie eat a Oreo &amp; do these...\n",
      "70       1  \"@ArizonasFinest6: Why the eggplant emoji doe?...\n",
      "75       1  \"@BabyAnimalPics: baby monkey bathtime http://...\n",
      "85       0  \"@Blackman38Tide: @WhaleLookyHere @HowdyDowdy1...\n",
      "90       0  \"@CB_Baby24: @white_thunduh alsarabsss\" hes a ...\n",
      "111      0  \"@DevilGrimz: @VigxRArts you're fucking gay, b...\n"
     ]
    }
   ],
   "source": [
    "df = pd.read_pickle('../data/labeled_data.p')\n",
    "\n",
    "# analyze imbalance\n",
    "print(df[\"class\"].value_counts())\n",
    "\n",
    "# drop class 1 for the first\n",
    "df = df.drop(df[df['class'] == 1].index)\n",
    "df = df.drop(['count', 'hate_speech', 'offensive_language', 'neither'], axis=1)\n",
    "\n",
    "# convert class 2 -> 1 to be in accordance with standards\n",
    "def convert_standard(x):\n",
    "    return 0 if x == 0 else 1\n",
    "df['class'] = df['class'].apply(convert_standard)\n",
    "\n",
    "print(df.head(10))\n"
   ]
  },
  {
   "cell_type": "code",
   "execution_count": 4,
   "metadata": {},
   "outputs": [
    {
     "name": "stdout",
     "output_type": "stream",
     "text": [
      "    class                                              tweet\n",
      "0       1  ! rt as a woman you shouldnt complain about cl...\n",
      "40      1        momma said no pussy cats inside my doghouse\n",
      "63      1                               simplyaddictedtoguys\n",
      "67      1  lemmie eat a oreo amp do these dishes one oreo...\n",
      "70      1  why the eggplant emoji doe?y he say she looked...\n"
     ]
    }
   ],
   "source": [
    "import re\n",
    "def preprocess(text):\n",
    "\n",
    "    text=text.lower()\n",
    "    # remove hyperlinks\n",
    "    text = re.sub(r'https?:\\/\\/.*[\\r\\n]*', '', text)\n",
    "    text = re.sub(r'http?:\\/\\/.*[\\r\\n]*', '', text)\n",
    "    #Replace &amp, &lt, &gt with &,<,> respectively\n",
    "    text=text.replace(r'&amp;?',r'and')\n",
    "    text=text.replace(r'&lt;',r'<')\n",
    "    text=text.replace(r'&gt;',r'>')\n",
    "    #remove hashtag sign\n",
    "    #text=re.sub(r\"#\",\"\",text)   \n",
    "    #remove mentions\n",
    "    text = re.sub(r\"(?:\\@)\\w+\", '', text)\n",
    "    #text=re.sub(r\"@\",\"\",text)\n",
    "    #remove non ascii chars\n",
    "    text=text.encode(\"ascii\",errors=\"ignore\").decode()\n",
    "    #remove some puncts (except . ! ?)\n",
    "    text=re.sub(r'[:\"#$%&\\*+,-/:;<=>@\\\\^_`{|}~]+','',text)\n",
    "    text=re.sub(r'[!]+','!',text)\n",
    "    text=re.sub(r'[?]+','?',text)\n",
    "    text=re.sub(r'[.]+','.',text)\n",
    "    text=re.sub(r\"'\",\"\",text)\n",
    "    text=re.sub(r\"\\(\",\"\",text)\n",
    "    text=re.sub(r\"\\)\",\"\",text)\n",
    "    \n",
    "    text=\" \".join(text.split())\n",
    "    return text\n",
    "\n",
    "df['tweet'] = df['tweet'].apply(preprocess)\n",
    "df = df[df[\"tweet\"]!='']\n",
    "\n",
    "print(df.head())\n"
   ]
  },
  {
   "cell_type": "code",
   "execution_count": 5,
   "metadata": {},
   "outputs": [
    {
     "name": "stdout",
     "output_type": "stream",
     "text": [
      "       class                                              tweet\n",
      "0          1  ! rt as a woman you shouldnt complain about cl...\n",
      "40         1        momma said no pussy cats inside my doghouse\n",
      "63         1                               simplyaddictedtoguys\n",
      "67         1  lemmie eat a oreo amp do these dishes one oreo...\n",
      "70         1  why the eggplant emoji doe?y he say she looked...\n",
      "...      ...                                                ...\n",
      "25280      1  you know what they say the early bird gets the...\n",
      "25289      0                                  youre all niggers\n",
      "25290      0  youre such a retard i hope you get type 2 diab...\n",
      "25292      1  youve gone and broke the wrong heart baby and ...\n",
      "25296      1  ruffled ntac eileen dahlia beautiful color com...\n",
      "\n",
      "[5584 rows x 2 columns]\n",
      "tensor([0.7441, 0.2559], dtype=torch.float64)\n"
     ]
    }
   ],
   "source": [
    "#dataset_df = pd.read_json('../data/train.jsonl', lines=True)\n",
    "\n",
    "# dictionary\n",
    "data = df.to_dict(orient='records') # have been shuffled in previous step\n",
    "\n",
    "print(df)\n",
    "\n",
    "# train valid split\n",
    "from sklearn.model_selection import train_test_split\n",
    "train_data, valid_data = train_test_split(data, test_size=0.18)\n",
    "#valid_data, _ = train_test_split(valid_data, test_size=0.9)\n",
    "\n",
    "\n",
    "wc = df['class'].value_counts()[:2]\n",
    "wc /= sum(wc)\n",
    "wc = [wc[1], wc[0]] # must be revert to counteract imbalance\n",
    "weight_classes = torch.tensor([wc[0], wc[1]])\n",
    "print(weight_classes)"
   ]
  },
  {
   "cell_type": "code",
   "execution_count": 6,
   "metadata": {},
   "outputs": [
    {
     "data": {
      "image/png": "[encoded data removed]",
      "text/plain": [
       "<Figure size 432x288 with 1 Axes>"
      ]
     },
     "metadata": {
      "needs_background": "light"
     },
     "output_type": "display_data"
    }
   ],
   "source": [
    "# split into text (input) and labels (output)\n",
    "train_texts, train_labels = list(zip(*map(lambda d: (d['tweet'], d['class']), train_data)))\n",
    "valid_texts, valid_labels = list(zip(*map(lambda d: (d['tweet'], d['class']), valid_data)))\n",
    "\n",
    "len(train_texts), len(train_labels), len(valid_texts), len(valid_labels)\n",
    "\n",
    "train_texts_len = list(map(lambda t: len(t), train_texts))\n",
    "\n",
    "plt.figure()\n",
    "plt.hist(train_texts_len, bins=20)\n",
    "plt.show()"
   ]
  },
  {
   "cell_type": "code",
   "execution_count": 7,
   "metadata": {},
   "outputs": [
    {
     "name": "stdout",
     "output_type": "stream",
     "text": [
      "0.744866754041066\n",
      "0.7405566600397614\n"
     ]
    }
   ],
   "source": [
    "# class imbalance\n",
    "print(sum(train_labels)/ len(train_labels))\n",
    "print(sum(valid_labels)/ len(valid_labels))"
   ]
  },
  {
   "cell_type": "code",
   "execution_count": 8,
   "metadata": {},
   "outputs": [],
   "source": [
    "# bert tokenizer\n",
    "tokenizer = BertTokenizer.from_pretrained('bert-base-cased', do_lower_case=False)"
   ]
  },
  {
   "cell_type": "code",
   "execution_count": 9,
   "metadata": {},
   "outputs": [
    {
     "data": {
      "text/plain": [
       "(4578, 1006)"
      ]
     },
     "execution_count": 9,
     "metadata": {},
     "output_type": "execute_result"
    }
   ],
   "source": [
    "# token embeddings with required separation token\n",
    "train_tokens = list(map(lambda t: ['[CLS]'] + tokenizer.tokenize(t)[:94] + ['[SEP]'], train_texts))\n",
    "valid_tokens = list(map(lambda t: ['[CLS]'] + tokenizer.tokenize(t)[:94] + ['[SEP]'], valid_texts))\n",
    "\n",
    "len(train_tokens), len(valid_tokens)"
   ]
  },
  {
   "cell_type": "code",
   "execution_count": 10,
   "metadata": {},
   "outputs": [],
   "source": [
    "# put everything back into a dictionary\n",
    "data_train = {'tokens': train_tokens, 'labels': train_labels}\n",
    "\n",
    "data_valid = {'tokens': valid_tokens, 'labels': valid_labels}"
   ]
  },
  {
   "cell_type": "markdown",
   "metadata": {},
   "source": [
    "## Dataloader"
   ]
  },
  {
   "cell_type": "code",
   "execution_count": 11,
   "metadata": {},
   "outputs": [],
   "source": [
    "class HatefulMemesDataset(Dataset):\n",
    "    \"\"\" Hateful Memes dataset \"\"\"\n",
    "    \n",
    "    def __init__(self, data):\n",
    "        \"\"\"\n",
    "        Args:\n",
    "            df_path (string): path to jsonl file with image id's\n",
    "            root_dir (string): directory with all the images\n",
    "            transform (callable): optional transform to be applied on a sample\n",
    "        \"\"\"\n",
    "        # text\n",
    "        self.data = data\n",
    "\n",
    "    def __len__(self):\n",
    "        return len(self.data['labels'])\n",
    "    \n",
    "    def __getitem__(self, idx):\n",
    "        if torch.is_tensor(idx):\n",
    "            idx = idx_tolist()\n",
    "            \n",
    "            \n",
    "        data_train = {'tokens': train_tokens, 'labels': train_labels}\n",
    "        \n",
    "        # label ------------------------------------------\n",
    "        label = self.data['labels'][idx]\n",
    "        label = np.array([label])\n",
    "        label = label.astype('int').reshape(-1)\n",
    "        \n",
    "        # token -------------------------------------------\n",
    "        token = self.data['tokens'][idx]\n",
    "\n",
    "        # prepare token ids: each token (word fragment) corresponds to an id in the bert corpus\n",
    "        # further need to make all review the same length -> padding too short, truncating too long ones\n",
    "        token_id = pad_sequences([tokenizer.convert_tokens_to_ids(token)], maxlen=96, truncating=\"post\", padding=\"post\", dtype=\"int\")\n",
    "        token_id = token_id.reshape(-1)\n",
    "        \n",
    "        # mask for padding -> required by bert\n",
    "        mask = [float(i > 0) for i in token_id]\n",
    "        mask = np.array([mask])\n",
    "        mask = mask.astype('float').reshape(-1)\n",
    "        \n",
    "        #\n",
    "        sample = {'token_id': token_id, 'mask': mask, 'label': label}\n",
    "            \n",
    "        return sample"
   ]
  },
  {
   "cell_type": "markdown",
   "metadata": {},
   "source": [
    "## Model "
   ]
  },
  {
   "cell_type": "code",
   "execution_count": 13,
   "metadata": {},
   "outputs": [],
   "source": [
    "# https://discuss.pytorch.org/t/combining-trained-models-in-pytorch/28383/2\n",
    "class MyEnsemble(nn.Module):\n",
    "    def __init__(self):\n",
    "        super(MyEnsemble, self).__init__()\n",
    "        # pretrained models\n",
    "        self.modelNLP = BertModel.from_pretrained('bert-base-cased')\n",
    "        \n",
    "        # classifier layer\n",
    "        self.layernorm1 = torch.nn.LayerNorm(768)\n",
    "        self.classifier1 = nn.Linear(768, 2)\n",
    "        \n",
    "    def forward(self, tokens, masks):\n",
    "        # Bert is such that the first token contains all info for classification\n",
    "        _, x2 = self.modelNLP(tokens, attention_mask=masks, output_all_encoded_layers=False)\n",
    "        x = self.layernorm1(x2)\n",
    "        y = self.classifier1(x)\n",
    "        \n",
    "        return y"
   ]
  },
  {
   "cell_type": "code",
   "execution_count": 14,
   "metadata": {},
   "outputs": [
    {
     "name": "stdout",
     "output_type": "stream",
     "text": [
      "433.778176M\n",
      "| ID | GPU | MEM |\n",
      "------------------\n",
      "|  0 |  4% | 23% |\n",
      "108313346\n",
      "108313346\n"
     ]
    }
   ],
   "source": [
    "# allocate on gpu\n",
    "os.environ[\"CUDA_VISIBLE_DEVICES\"] = '0'\n",
    "device = torch.device(\"cuda\" if torch.cuda.is_available() else \"cpu\")\n",
    "torch.cuda.empty_cache()\n",
    "\n",
    "model = MyEnsemble().to(device)\n",
    "print(str(torch.cuda.memory_allocated(device)/1000000 ) + 'M')\n",
    "\n",
    "GPUtil.showUtilization()\n",
    "\n",
    "print(sum(p.numel() for p in model.parameters()))\n",
    "print(sum(p.numel() for p in model.parameters() if p.requires_grad))"
   ]
  },
  {
   "cell_type": "code",
   "execution_count": 15,
   "metadata": {},
   "outputs": [],
   "source": [
    "from torch.optim import Adam\n",
    "# TODO: not sure if this does what I think it should do\n",
    "# optimizer\n",
    "lr = 2e-5\n",
    "optimizer = Adam(model.parameters(), lr=lr) # TODO: SGD for just the final classifier"
   ]
  },
  {
   "cell_type": "code",
   "execution_count": 16,
   "metadata": {},
   "outputs": [],
   "source": [
    "def weighted_binary_cross_entropy(output, target, weights=None):\n",
    "        \n",
    "    if weights is not None:        \n",
    "        # TODO: should work since target = {0, 1}, thus sets weights to zero if not needed\n",
    "        loss = weights * (target * torch.log(output)) + \\\n",
    "               weights * ((1 - target) * torch.log(1 - output))\n",
    "    else:\n",
    "        loss = target * torch.log(output) + (1 - target) * torch.log(1 - output)\n",
    "\n",
    "    return torch.neg(torch.mean(loss))"
   ]
  },
  {
   "cell_type": "code",
   "execution_count": 17,
   "metadata": {},
   "outputs": [],
   "source": [
    "from datetime import date\n",
    "# summary writer\n",
    "log_dir = './summaries/summary'+ date.today().strftime('%H-%d-%m-%Y')\n",
    "from torch.utils.tensorboard import SummaryWriter\n",
    "writer = SummaryWriter(log_dir)"
   ]
  },
  {
   "cell_type": "markdown",
   "metadata": {},
   "source": [
    "## Training"
   ]
  },
  {
   "cell_type": "code",
   "execution_count": 18,
   "metadata": {
    "scrolled": true
   },
   "outputs": [
    {
     "ename": "KeyboardInterrupt",
     "evalue": "",
     "output_type": "error",
     "traceback": [
      "\u001b[0;31m---------------------------------------------------------------------------\u001b[0m",
      "\u001b[0;31mKeyboardInterrupt\u001b[0m                         Traceback (most recent call last)",
      "\u001b[0;32m<ipython-input-18-e435dfff56a7>\u001b[0m in \u001b[0;36m<module>\u001b[0;34m\u001b[0m\n\u001b[1;32m    114\u001b[0m \u001b[0;34m\u001b[0m\u001b[0m\n\u001b[1;32m    115\u001b[0m         \u001b[0mbatch_loss\u001b[0m \u001b[0;34m=\u001b[0m \u001b[0mloss_fn\u001b[0m\u001b[0;34m(\u001b[0m\u001b[0mlogits\u001b[0m\u001b[0;34m,\u001b[0m \u001b[0mlabels\u001b[0m\u001b[0;34m.\u001b[0m\u001b[0msqueeze\u001b[0m\u001b[0;34m(\u001b[0m\u001b[0;34m)\u001b[0m\u001b[0;34m)\u001b[0m\u001b[0;34m\u001b[0m\u001b[0;34m\u001b[0m\u001b[0m\n\u001b[0;32m--> 116\u001b[0;31m         \u001b[0mvalid_loss\u001b[0m \u001b[0;34m+=\u001b[0m \u001b[0mbatch_loss\u001b[0m\u001b[0;34m.\u001b[0m\u001b[0mitem\u001b[0m\u001b[0;34m(\u001b[0m\u001b[0;34m)\u001b[0m\u001b[0;34m\u001b[0m\u001b[0;34m\u001b[0m\u001b[0m\n\u001b[0m\u001b[1;32m    117\u001b[0m         \u001b[0mvalid_correct\u001b[0m \u001b[0;34m+=\u001b[0m \u001b[0msum\u001b[0m\u001b[0;34m(\u001b[0m\u001b[0;34m(\u001b[0m\u001b[0mpreds\u001b[0m\u001b[0;34m==\u001b[0m\u001b[0mlabels\u001b[0m\u001b[0;34m)\u001b[0m\u001b[0;34m*\u001b[0m \u001b[0mweight_imbalance\u001b[0m\u001b[0;34m)\u001b[0m\u001b[0;34m.\u001b[0m\u001b[0mitem\u001b[0m\u001b[0;34m(\u001b[0m\u001b[0;34m)\u001b[0m\u001b[0;34m*\u001b[0m \u001b[0mweight_correction\u001b[0m \u001b[0;31m# adjust accuracy to [0,1]\u001b[0m\u001b[0;34m\u001b[0m\u001b[0;34m\u001b[0m\u001b[0m\n\u001b[1;32m    118\u001b[0m \u001b[0;34m\u001b[0m\u001b[0m\n",
      "\u001b[0;31mKeyboardInterrupt\u001b[0m: "
     ]
    }
   ],
   "source": [
    "from torch.nn.utils import clip_grad_norm_\n",
    "from sklearn.metrics import roc_auc_score\n",
    "\n",
    "# training\n",
    "torch.cuda.empty_cache()   # Clearing Cache space for a fresh Model run\n",
    "\n",
    "EPOCHS = 4\n",
    "BATCH_SIZE_TRAIN = 8 # 4 if grad for all paramters\n",
    "BATCH_SIZE_VALID = 4\n",
    "\n",
    "# weight correction\n",
    "weight_correction = (2* wc[0]*wc[1])**(-1)\n",
    "\n",
    "# training\n",
    "train_dataset = HatefulMemesDataset(data_train)\n",
    "train_loader = torch.utils.data.DataLoader(train_dataset, batch_size=BATCH_SIZE_TRAIN, num_workers=1, shuffle=True)\n",
    "\n",
    "# validation\n",
    "valid_dataset = HatefulMemesDataset(data_valid)\n",
    "valid_loader = torch.utils.data.DataLoader(valid_dataset, batch_size=BATCH_SIZE_VALID, shuffle=False)\n",
    "\n",
    "# loss fcn\n",
    "loss_fn = torch.nn.CrossEntropyLoss(reduction='sum', weight=weight_classes.float().to(device))\n",
    "\n",
    "# monitor train progress\n",
    "stats = {'train_loss': [], 'train_acc': [], 'valid_loss': [], 'valid_acc': [], 'val_rocauc': []}\n",
    "\n",
    "time_tot = []\n",
    "\n",
    "for epoch_num in range(EPOCHS):\n",
    "    #\n",
    "    train_loss = 0.\n",
    "    train_correct = 0.\n",
    "    \n",
    "    valid_loss = 0.\n",
    "    valid_correct = 0.\n",
    "    \n",
    "    # training ---------------------------------------------------\n",
    "    model.train()\n",
    "        \n",
    "    for step_num, batch in enumerate(train_loader):\n",
    "        \n",
    "        # sample = {'image': image, 'token_id': token_id, 'mask': mask, 'label': label}                \n",
    "        labels = batch['label'].to(device)\n",
    "        masks = batch['mask'].to(device)\n",
    "        token_ids = batch['token_id'].to(device)\n",
    "        # imgs, token_ids, masks, labels = tuple(t.to(device) for t in batch)\n",
    "        # print(str(torch.cuda.memory_allocated(device)/1000000 ) + 'M')\n",
    "        \n",
    "        logits = model(token_ids, masks)\n",
    "        preds = torch.reshape(torch.argmax(logits, dim=1), [-1,1])\n",
    "        \n",
    "        # account for class imbalance\n",
    "        eye = torch.ones(labels.shape, device=device)\n",
    "        weight_imbalance = (eye-(labels==eye).int())* wc[0] + (labels==eye).int()* wc[1]\n",
    "   \n",
    "        # loss\n",
    "        batch_loss = loss_fn(logits, labels.squeeze())\n",
    "        train_loss += batch_loss.item()\n",
    "        train_correct += sum((preds==labels)* weight_imbalance).item()* weight_correction # adjust accuracy to [0,1]\n",
    "        \n",
    "        \n",
    "        '''\n",
    "        batch_loss = weighted_binary_cross_entropy(logits, labels.float())\n",
    "        train_loss += batch_loss.item()\n",
    "        train_correct += sum((torch.round(logits)==labels)).item()\n",
    "        '''\n",
    "        \n",
    "        # reset gradient and calculate new ones\n",
    "        model.zero_grad()\n",
    "        batch_loss.backward()\n",
    "        \n",
    "        # gradient clipping and backward pass\n",
    "        #clip_grad_norm_(parameters=model.parameters(), max_norm=1.0)\n",
    "        optimizer.step()\n",
    "\n",
    "        # logging\n",
    "        # clear_output(wait=True) -> from IPython.display import clear_output\n",
    "        if step_num%50==0 and step_num> 0:\n",
    "            print('Epoch: ', epoch_num + 1)\n",
    "            print(\"\\r\" + \"{0}/{1} loss: {2} acc: {3} \".format(step_num,\n",
    "                                                              len(train_data) / BATCH_SIZE_TRAIN,\n",
    "                                                              round(train_loss / (step_num + 1), 3),\n",
    "                                                              round(train_correct/ ((step_num+1)* BATCH_SIZE_TRAIN), 3)))\n",
    "    \n",
    "    # train stats\n",
    "    stats['train_loss'].append(train_loss / ((step_num+1)* BATCH_SIZE_TRAIN))\n",
    "    stats['train_acc'].append(train_correct / ((step_num+1)* BATCH_SIZE_TRAIN))\n",
    "    \n",
    "    writer.add_scalar('Loss/train', train_loss / ((step_num+1)* BATCH_SIZE_TRAIN), epoch_num)\n",
    "    writer.add_scalar('Accuracy/train', train_correct / ((step_num+1)* BATCH_SIZE_TRAIN), epoch_num)\n",
    "    \n",
    "    # validation ---------------------------------------\n",
    "    # TODO to calculate metrics\n",
    "    ypred = []\n",
    "    ytrue = []\n",
    "    weight = []\n",
    "\n",
    "    for step_num, batch in enumerate(valid_loader):\n",
    "        # sample = {'image': image, 'token_id': token_id, 'mask': mask, 'label': label}        \n",
    "        labels = batch['label'].to(device)\n",
    "        masks = batch['mask'].to(device)\n",
    "        token_ids = batch['token_id'].to(device)\n",
    "\n",
    "        # account for class imbalance (66% label 0, 33% label 1)\n",
    "        eye = torch.ones(labels.shape, device=device)\n",
    "        weight_imbalance = (eye-(labels==eye).int())* wc[0] + (labels==eye).int()* wc[1]\n",
    "        \n",
    "        # loss\n",
    "        logits = model(token_ids, masks)\n",
    "        preds = torch.reshape(torch.argmax(logits, dim=1), [-1,1])\n",
    "        \n",
    "        batch_loss = loss_fn(logits, labels.squeeze())\n",
    "        valid_loss += batch_loss.item()\n",
    "        valid_correct += sum((preds==labels)* weight_imbalance).item()* weight_correction # adjust accuracy to [0,1]\n",
    "\n",
    "        '''\n",
    "        batch_loss = weighted_binary_cross_entropy(logits, labels.float())\n",
    "        valid_loss += batch_loss.item()\n",
    "        \n",
    "        valid_correct += sum((torch.round(logits)==labels)).item()\n",
    "        '''\n",
    "\n",
    "    # valid stats\n",
    "    stats['valid_loss'].append(valid_loss / ((step_num+1)* BATCH_SIZE_VALID))\n",
    "    stats['valid_acc'].append(valid_correct / ((step_num+1)* BATCH_SIZE_VALID))\n",
    "    \n",
    "    writer.add_scalar('Loss/valid', valid_loss / ((step_num+1)* BATCH_SIZE_VALID), epoch_num)\n",
    "    writer.add_scalar('Accuracy/valid', valid_correct / ((step_num+1)* BATCH_SIZE_VALID), epoch_num)\n",
    "\n",
    "    # optimizer lr decay: domain specific pre-training -> lr=2e-5\n",
    "    #lr*= 0.9\n",
    "    #optimizer = Adam(model.parameters(), lr=lr)\n",
    "    \n",
    "writer.close()"
   ]
  },
  {
   "cell_type": "code",
   "execution_count": 19,
   "metadata": {
    "scrolled": true
   },
   "outputs": [
    {
     "data": {
      "image/png": "[encoded data removed]",
      "text/plain": [
       "<Figure size 864x288 with 2 Axes>"
      ]
     },
     "metadata": {
      "needs_background": "light"
     },
     "output_type": "display_data"
    }
   ],
   "source": [
    "fig, ax = plt.subplots(figsize=(12, 4), ncols=2)\n",
    "ax[0].plot(stats['train_loss'])\n",
    "ax[0].plot(stats['valid_loss'])\n",
    "ax[0].legend(['train', 'valid'])\n",
    "ax[0].set_ylabel('Loss')\n",
    "ax[0].set_yscale('log')\n",
    "\n",
    "ax[1].plot(stats['train_acc'])\n",
    "ax[1].plot(stats['valid_acc'])\n",
    "ax[1].legend(['train', 'valid'])\n",
    "ax[1].set_ylabel('Accuracy')\n",
    "\n",
    "plt.savefig('../classifier_11_10.png')\n",
    "plt.show()"
   ]
  },
  {
   "cell_type": "code",
   "execution_count": null,
   "metadata": {},
   "outputs": [],
   "source": []
  },
  {
   "cell_type": "code",
   "execution_count": null,
   "metadata": {},
   "outputs": [],
   "source": []
  }
 ],
 "metadata": {
  "kernelspec": {
   "display_name": "Python 3",
   "language": "python",
   "name": "python3"
  },
  "language_info": {
   "codemirror_mode": {
    "name": "ipython",
    "version": 3
   },
   "file_extension": ".py",
   "mimetype": "text/x-python",
   "name": "python",
   "nbconvert_exporter": "python",
   "pygments_lexer": "ipython3",
   "version": "3.6.9"
  }
 },
 "nbformat": 4,
 "nbformat_minor": 4
}
